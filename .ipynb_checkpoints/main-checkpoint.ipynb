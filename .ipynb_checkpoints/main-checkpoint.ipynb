{
 "cells": [
  {
   "cell_type": "code",
   "execution_count": 1,
   "metadata": {},
   "outputs": [],
   "source": [
    "import pandas as pd"
   ]
  },
  {
   "cell_type": "code",
   "execution_count": 5,
   "metadata": {},
   "outputs": [],
   "source": [
    "#read csv\n",
    "df = pd.read_csv(\"./data/board_games.csv\")\n",
    "\n",
    "#use game_id as index\n",
    "df.set_index('game_id', inplace=True)\n",
    "\n",
    "#Split categories into columns\n",
    "try:\n",
    "    df[['principal_category', 'secondary_category','other_category']] = df['category'].str.split(',', expand=True)\n",
    "except ValueError:\n",
    "    # Handle the case where there are fewer than three categories\n",
    "    df[['principal_category', 'secondary_category','other_category']] = df['category'].str.split(',', n=2, expand=True)\n",
    "\n",
    "#delete columns\n",
    "columns_to_drop= [\"description\",\"image\",\"thumbnail\",\"compilation\",\"family\",\"mechanic\"]\n",
    "df.drop(columns_to_drop, axis=1, inplace=True)\n",
    "\n",
    "#manage null values --> set to 'unknown'\n",
    "columns_null_values = ['artist', 'category','designer','publisher']\n",
    "df[columns_null_values] = df[columns_null_values].apply(lambda columns: columns.apply(lambda x: 'unknown' if pd.isnull(x) else x))\n",
    "df['expansion'] = df['expansion'].apply(lambda x: 'no' if pd.isnull(x) else 'yes')\n",
    "\n",
    "#drop duplicates (same 'name')\n",
    "df.drop_duplicates(subset='name', inplace=True)\n"
   ]
  },
  {
   "cell_type": "code",
   "execution_count": 34,
   "metadata": {},
   "outputs": [],
   "source": [
    "#read csv\n",
    "df1 = pd.read_csv(\"./data/video_games.csv\")\n",
    "\n",
    "#manage null values\n",
    "df1.dropna(subset=['Name','Year_of_Release'], inplace=True)\n",
    "columns_null_values_df1 = ['Publisher', 'Developer','Rating','Critic_Score','Critic_Count','User_Score','User_Count']\n",
    "df1[columns_null_values_df1] = df1[columns_null_values_df1].apply(lambda columns: columns.apply(lambda x: 'unknown' if pd.isnull(x) else x))\n",
    "\n",
    "#change Year_of_release to int\n",
    "columns_to_convert = ['Year_of_Release','Critic_Count','User_Count']\n",
    "try:\n",
    "    df1[columns_to_convert] = df1[columns_to_convert].astype(int)\n",
    "except ValueError:\n",
    "     df1[columns_to_convert] ='unknown'"
   ]
  },
  {
   "cell_type": "code",
   "execution_count": 35,
   "metadata": {},
   "outputs": [
    {
     "data": {
      "text/plain": [
       "Name                object\n",
       "Platform            object\n",
       "Year_of_Release     object\n",
       "Genre               object\n",
       "Publisher           object\n",
       "NA_Sales           float64\n",
       "EU_Sales           float64\n",
       "JP_Sales           float64\n",
       "Other_Sales        float64\n",
       "Global_Sales       float64\n",
       "Critic_Score        object\n",
       "Critic_Count        object\n",
       "User_Score          object\n",
       "User_Count          object\n",
       "Developer           object\n",
       "Rating              object\n",
       "dtype: object"
      ]
     },
     "execution_count": 35,
     "metadata": {},
     "output_type": "execute_result"
    }
   ],
   "source": [
    "df1.dtypes"
   ]
  },
  {
   "cell_type": "code",
   "execution_count": 24,
   "metadata": {},
   "outputs": [
    {
     "data": {
      "text/plain": [
       "max_players             int64\n",
       "max_playtime            int64\n",
       "min_age                 int64\n",
       "min_players             int64\n",
       "min_playtime            int64\n",
       "name                   object\n",
       "playing_time            int64\n",
       "year_published          int64\n",
       "artist                 object\n",
       "category               object\n",
       "designer               object\n",
       "expansion              object\n",
       "publisher              object\n",
       "average_rating        float64\n",
       "users_rated             int64\n",
       "principal_category     object\n",
       "secondary_category     object\n",
       "other_category         object\n",
       "dtype: object"
      ]
     },
     "execution_count": 24,
     "metadata": {},
     "output_type": "execute_result"
    }
   ],
   "source": [
    "df.dtypes"
   ]
  },
  {
   "cell_type": "code",
   "execution_count": 11,
   "metadata": {},
   "outputs": [
    {
     "data": {
      "text/plain": [
       "Index(['Name', 'Platform', 'Year_of_Release', 'Genre', 'Publisher', 'NA_Sales',\n",
       "       'EU_Sales', 'JP_Sales', 'Other_Sales', 'Global_Sales', 'Critic_Score',\n",
       "       'Critic_Count', 'User_Score', 'User_Count', 'Developer', 'Rating'],\n",
       "      dtype='object')"
      ]
     },
     "execution_count": 11,
     "metadata": {},
     "output_type": "execute_result"
    }
   ],
   "source": [
    "df1.columns"
   ]
  },
  {
   "cell_type": "code",
   "execution_count": null,
   "metadata": {},
   "outputs": [],
   "source": []
  }
 ],
 "metadata": {
  "kernelspec": {
   "display_name": "ironhack",
   "language": "python",
   "name": "ironhack"
  },
  "language_info": {
   "codemirror_mode": {
    "name": "ipython",
    "version": 3
   },
   "file_extension": ".py",
   "mimetype": "text/x-python",
   "name": "python",
   "nbconvert_exporter": "python",
   "pygments_lexer": "ipython3",
   "version": "3.11.5"
  }
 },
 "nbformat": 4,
 "nbformat_minor": 2
}
