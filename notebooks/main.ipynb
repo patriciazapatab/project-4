{
 "cells": [
  {
   "cell_type": "code",
   "execution_count": 17,
   "metadata": {},
   "outputs": [],
   "source": [
    "import pandas as pd"
   ]
  },
  {
   "cell_type": "code",
   "execution_count": 18,
   "metadata": {},
   "outputs": [],
   "source": [
    "#read csv\n",
    "df = pd.read_csv(\"./data/board_games.csv\")\n",
    "\n",
    "#use game_id as index\n",
    "df.set_index('game_id', inplace=True)\n",
    "\n",
    "#change years name to later unify dfs\n",
    "df.rename(columns={'year_published': 'Year_of_Release'}, inplace=True)\n",
    "\n",
    "#Split categories into columns\n",
    "try:\n",
    "    df[['principal_category', 'secondary_category','other_category']] = df['category'].str.split(',', expand=True)\n",
    "except ValueError:\n",
    "    # Handle the case where there are fewer than three categories\n",
    "    df[['principal_category', 'secondary_category','other_category']] = df['category'].str.split(',', n=2, expand=True)\n",
    "\n",
    "#delete columns\n",
    "columns_to_drop= [\"description\",\"image\",\"thumbnail\",\"compilation\",\"family\",\"mechanic\"]\n",
    "df.drop(columns_to_drop, axis=1, inplace=True)\n",
    "\n",
    "#manage null values --> set to 'unknown'\n",
    "columns_null_values = ['artist', 'category','designer','publisher']\n",
    "df[columns_null_values] = df[columns_null_values].apply(lambda columns: columns.apply(lambda x: 'unknown' if pd.isnull(x) else x))\n",
    "df['expansion'] = df['expansion'].apply(lambda x: 'no' if pd.isnull(x) else 'yes')\n",
    "\n",
    "#delete rows with many 0s\n",
    "df.drop(df[(df['min_players']==0) | (df['min_playtime']==0)].index, inplace=True)\n",
    "\n",
    "#drop duplicates (same 'name')\n",
    "df.drop_duplicates(subset='name', inplace=True)\n",
    "\n",
    "\n",
    "#Having the average rating and the number of users that have rated the game \n",
    "#we create a Weighted Average variable so we can compare in a more fair way game ratings\n",
    "\n",
    "def calculate_weighted_average(row):\n",
    "    avg_rating = row['average_rating']\n",
    "    num_votes = row['users_rated']\n",
    "    weighted_avg = (avg_rating * num_votes + base_rating * base_votes) / (num_votes + base_votes)\n",
    "    return weighted_avg\n",
    "df['WeightedAverage'] = df.apply(calculate_weighted_average, axis=1)\n"
   ]
  },
  {
   "cell_type": "code",
   "execution_count": 19,
   "metadata": {},
   "outputs": [],
   "source": [
    "#read csv\n",
    "df1 = pd.read_csv(\"./data/video_games.csv\")\n",
    "\n",
    "#manage null values\n",
    "df1.dropna(subset=['Name'], inplace=True)\n",
    "df1.dropna(subset=['Year_of_Release'], inplace=True)\n",
    "#columns_null_values_df1 = ['Publisher', 'Developer','Rating','Critic_Score','Critic_Count','User_Score','User_Count']\n",
    "#df1[columns_null_values_df1] = df1[columns_null_values_df1].apply(lambda columns: columns.apply(lambda x: 'unknown' if pd.isnull(x) else x))\n",
    "\n",
    "#drop duplicates of name, platform and year of release\n",
    "df1 = df1.drop_duplicates(subset=['Name', 'Platform', 'Year_of_Release'])\n",
    "\n",
    "#change Year_of_release to int\n",
    "df1['Year_of_Release'] = df1['Year_of_Release'].astype('int64')\n",
    "base_rating = df['average_rating'].mean()\n",
    "base_votes = 500\n"
   ]
  },
  {
   "cell_type": "code",
   "execution_count": 20,
   "metadata": {},
   "outputs": [],
   "source": [
    "df.to_csv('./data/cleaned_board_games.csv', encoding='utf-8', index=False)"
   ]
  },
  {
   "cell_type": "code",
   "execution_count": 21,
   "metadata": {},
   "outputs": [],
   "source": [
    "df1.to_csv('./data/cleaned_video_games.csv', encoding='utf-8', index=False)"
   ]
  },
  {
   "cell_type": "code",
   "execution_count": 6,
   "metadata": {},
   "outputs": [],
   "source": []
  }
 ],
 "metadata": {
  "kernelspec": {
   "display_name": "ironhack",
   "language": "python",
   "name": "ironhack"
  },
  "language_info": {
   "codemirror_mode": {
    "name": "ipython",
    "version": 3
   },
   "file_extension": ".py",
   "mimetype": "text/x-python",
   "name": "python",
   "nbconvert_exporter": "python",
   "pygments_lexer": "ipython3",
   "version": "3.11.5"
  }
 },
 "nbformat": 4,
 "nbformat_minor": 2
}
